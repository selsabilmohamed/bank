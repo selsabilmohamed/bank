{
  "nbformat": 4,
  "nbformat_minor": 0,
  "metadata": {
    "colab": {
      "provenance": [],
      "authorship_tag": "ABX9TyP3hmqPyKfOHam1TrUzzo5e",
      "include_colab_link": true
    },
    "kernelspec": {
      "name": "python3",
      "display_name": "Python 3"
    },
    "language_info": {
      "name": "python"
    }
  },
  "cells": [
    {
      "cell_type": "markdown",
      "metadata": {
        "id": "view-in-github",
        "colab_type": "text"
      },
      "source": [
        "<a href=\"https://colab.research.google.com/github/selsabilmohamed/bank/blob/main/A4.ipynb\" target=\"_parent\"><img src=\"https://colab.research.google.com/assets/colab-badge.svg\" alt=\"Open In Colab\"/></a>"
      ]
    },
    {
      "cell_type": "code",
      "execution_count": null,
      "metadata": {
        "id": "pkTDsK7qQF_W"
      },
      "outputs": [],
      "source": [
        "import numpy as np\n",
        "import pandas as pd\n",
        "from sklearn.cluster import KMeans\n",
        "from sklearn.preprocessing import LabelEncoder, MinMaxScaler\n",
        "from sklearn.metrics import accuracy_score\n",
        "import matplotlib.pyplot as plt\n",
        "from sklearn.impute import SimpleImputer\n"
      ]
    },
    {
      "cell_type": "code",
      "source": [
        "# a) Read data\n",
        "data = pd.read_csv('housing.csv')\n"
      ],
      "metadata": {
        "id": "eXjKHy3mQVA7"
      },
      "execution_count": null,
      "outputs": []
    },
    {
      "cell_type": "code",
      "source": [
        "# b) Find the shape of the data\n",
        "print(\"Shape of the data:\", data.shape)\n"
      ],
      "metadata": {
        "colab": {
          "base_uri": "https://localhost:8080/"
        },
        "id": "eA0SN4dTQhX6",
        "outputId": "8f8417df-6a3f-4928-df23-e54b75254147"
      },
      "execution_count": null,
      "outputs": [
        {
          "output_type": "stream",
          "name": "stdout",
          "text": [
            "Shape of the data: (20640, 10)\n"
          ]
        }
      ]
    },
    {
      "cell_type": "code",
      "source": [
        "# c) Find the information\n",
        "print(\"Information about the data:\")\n",
        "print(data.info())\n",
        "\n"
      ],
      "metadata": {
        "colab": {
          "base_uri": "https://localhost:8080/"
        },
        "id": "uvWz9utgQjOs",
        "outputId": "388efea6-9903-4002-a18f-6ef6badd5311"
      },
      "execution_count": null,
      "outputs": [
        {
          "output_type": "stream",
          "name": "stdout",
          "text": [
            "Information about the data:\n",
            "<class 'pandas.core.frame.DataFrame'>\n",
            "RangeIndex: 20640 entries, 0 to 20639\n",
            "Data columns (total 10 columns):\n",
            " #   Column              Non-Null Count  Dtype  \n",
            "---  ------              --------------  -----  \n",
            " 0   longitude           20640 non-null  float64\n",
            " 1   latitude            20640 non-null  float64\n",
            " 2   housing_median_age  20640 non-null  float64\n",
            " 3   total_rooms         20640 non-null  float64\n",
            " 4   total_bedrooms      20433 non-null  float64\n",
            " 5   population          20640 non-null  float64\n",
            " 6   households          20640 non-null  float64\n",
            " 7   median_income       20640 non-null  float64\n",
            " 8   median_house_value  20640 non-null  float64\n",
            " 9   ocean_proximity     20640 non-null  object \n",
            "dtypes: float64(9), object(1)\n",
            "memory usage: 1.6+ MB\n",
            "None\n"
          ]
        }
      ]
    },
    {
      "cell_type": "code",
      "source": [
        "# d) Find whether the dataset has any missing values\n",
        "print(\"Missing values in the dataset:\")\n",
        "print(data.isnull().sum())\n"
      ],
      "metadata": {
        "colab": {
          "base_uri": "https://localhost:8080/"
        },
        "id": "6iPMyO-ZQpRK",
        "outputId": "605c824c-e134-4c80-d34a-f038c82dab16"
      },
      "execution_count": null,
      "outputs": [
        {
          "output_type": "stream",
          "name": "stdout",
          "text": [
            "Missing values in the dataset:\n",
            "longitude               0\n",
            "latitude                0\n",
            "housing_median_age      0\n",
            "total_rooms             0\n",
            "total_bedrooms        207\n",
            "population              0\n",
            "households              0\n",
            "median_income           0\n",
            "median_house_value      0\n",
            "ocean_proximity         0\n",
            "dtype: int64\n"
          ]
        }
      ]
    },
    {
      "cell_type": "code",
      "source": [
        "# e) Describe the dataset\n",
        "print(\"Description of the dataset:\")\n",
        "print(data.describe())"
      ],
      "metadata": {
        "colab": {
          "base_uri": "https://localhost:8080/"
        },
        "id": "L9gKMGafQrHa",
        "outputId": "3c9fc055-29cf-4a82-97b6-8954c1809b3e"
      },
      "execution_count": null,
      "outputs": [
        {
          "output_type": "stream",
          "name": "stdout",
          "text": [
            "Description of the dataset:\n",
            "          longitude      latitude  housing_median_age   total_rooms  \\\n",
            "count  20640.000000  20640.000000        20640.000000  20640.000000   \n",
            "mean    -119.569704     35.631861           28.639486   2635.763081   \n",
            "std        2.003532      2.135952           12.585558   2181.615252   \n",
            "min     -124.350000     32.540000            1.000000      2.000000   \n",
            "25%     -121.800000     33.930000           18.000000   1447.750000   \n",
            "50%     -118.490000     34.260000           29.000000   2127.000000   \n",
            "75%     -118.010000     37.710000           37.000000   3148.000000   \n",
            "max     -114.310000     41.950000           52.000000  39320.000000   \n",
            "\n",
            "       total_bedrooms    population    households  median_income  \\\n",
            "count    20433.000000  20640.000000  20640.000000   20640.000000   \n",
            "mean       537.870553   1425.476744    499.539680       3.870671   \n",
            "std        421.385070   1132.462122    382.329753       1.899822   \n",
            "min          1.000000      3.000000      1.000000       0.499900   \n",
            "25%        296.000000    787.000000    280.000000       2.563400   \n",
            "50%        435.000000   1166.000000    409.000000       3.534800   \n",
            "75%        647.000000   1725.000000    605.000000       4.743250   \n",
            "max       6445.000000  35682.000000   6082.000000      15.000100   \n",
            "\n",
            "       median_house_value  \n",
            "count        20640.000000  \n",
            "mean        206855.816909  \n",
            "std         115395.615874  \n",
            "min          14999.000000  \n",
            "25%         119600.000000  \n",
            "50%         179700.000000  \n",
            "75%         264725.000000  \n",
            "max         500001.000000  \n"
          ]
        }
      ]
    },
    {
      "cell_type": "code",
      "source": [
        "# f) Drop ocean proximity column\n",
        "data = data.drop('ocean_proximity', axis=1)"
      ],
      "metadata": {
        "id": "Q0aAmaiqQvGj"
      },
      "execution_count": null,
      "outputs": []
    },
    {
      "cell_type": "code",
      "source": [
        "# g) Find if there are unique values in the remaining columns\n",
        "print(\"Unique values in each column:\")\n",
        "for column in data.columns:\n",
        "    print(column, \":\", data[column].nunique())"
      ],
      "metadata": {
        "colab": {
          "base_uri": "https://localhost:8080/"
        },
        "id": "J_opxh6-Q27a",
        "outputId": "f8406f8c-78e6-4d39-bcd1-f3d9c156d691"
      },
      "execution_count": null,
      "outputs": [
        {
          "output_type": "stream",
          "name": "stdout",
          "text": [
            "Unique values in each column:\n",
            "longitude : 844\n",
            "latitude : 862\n",
            "housing_median_age : 52\n",
            "total_rooms : 5926\n",
            "total_bedrooms : 1923\n",
            "population : 3888\n",
            "households : 1815\n",
            "median_income : 12928\n",
            "median_house_value : 3842\n"
          ]
        }
      ]
    },
    {
      "cell_type": "code",
      "source": [
        "# h) If any col holds object datatype, transform the data into integer type by implementing label-encoder\n",
        "label_encoder = LabelEncoder()\n",
        "for column in data.columns:\n",
        "    if data[column].dtype == 'object':\n",
        "        data[column] = label_encoder.fit_transform(data[column])\n"
      ],
      "metadata": {
        "id": "ffNU48PaQ88T"
      },
      "execution_count": null,
      "outputs": []
    },
    {
      "cell_type": "code",
      "source": [
        "# i) If you have implemented label encoder test, whether all the cols now have int data types\n",
        "print(\"Data types of columns after label encoding:\")\n",
        "print(data.dtypes)\n"
      ],
      "metadata": {
        "id": "aMev09oxRD3r",
        "colab": {
          "base_uri": "https://localhost:8080/"
        },
        "outputId": "d3eabc3f-cb68-4a2c-98f4-f05722fc5293"
      },
      "execution_count": null,
      "outputs": [
        {
          "output_type": "stream",
          "name": "stdout",
          "text": [
            "Data types of columns after label encoding:\n",
            "longitude             float64\n",
            "latitude              float64\n",
            "housing_median_age    float64\n",
            "total_rooms           float64\n",
            "total_bedrooms        float64\n",
            "population            float64\n",
            "households            float64\n",
            "median_income         float64\n",
            "median_house_value    float64\n",
            "dtype: object\n"
          ]
        }
      ]
    },
    {
      "cell_type": "code",
      "source": [
        "# j) Scale data with min max scaler\n",
        "scaler = MinMaxScaler()\n",
        "data_scaled = scaler.fit_transform(data)\n"
      ],
      "metadata": {
        "id": "CmTog1CiRRCf"
      },
      "execution_count": null,
      "outputs": []
    },
    {
      "cell_type": "code",
      "source": [
        "# l) Implement K-means without elbow method, choose your own cluster numbers and find the cluster center points\n",
        "kmeans = KMeans(n_clusters=4, random_state=42)\n"
      ],
      "metadata": {
        "id": "rr8tS1MJRTQv"
      },
      "execution_count": null,
      "outputs": []
    },
    {
      "cell_type": "code",
      "source": [
        "# Initialize SimpleImputer to help put the mean values instead of leaving the columns NaN\n",
        "# Whenever I try to do code, I'd rather use the simpleImputer because whenever I leave the NaN, I dont want to delete the whole rows\n",
        "#I feel like just computing the mean is way better and \"smoother\" for my code I'm not sure if that makes sense\n",
        "imputer = SimpleImputer(strategy='mean')\n"
      ],
      "metadata": {
        "id": "6fSV88vORK9o"
      },
      "execution_count": null,
      "outputs": []
    },
    {
      "cell_type": "code",
      "source": [
        "# Fit the imputer and transform\n",
        "data_imputed = imputer.fit_transform(data_scaled)\n"
      ],
      "metadata": {
        "id": "kdE5A65AJ6lr"
      },
      "execution_count": null,
      "outputs": []
    },
    {
      "cell_type": "code",
      "source": [
        "# Now K-means clustering\n",
        "kmeans.fit(data_imputed)\n",
        "cluster_centers = kmeans.cluster_centers_"
      ],
      "metadata": {
        "colab": {
          "base_uri": "https://localhost:8080/"
        },
        "id": "hLkDTS85eFbP",
        "outputId": "9d66c393-8e80-457d-ba4b-038960f24382"
      },
      "execution_count": null,
      "outputs": [
        {
          "output_type": "stream",
          "name": "stderr",
          "text": [
            "/usr/local/lib/python3.10/dist-packages/sklearn/cluster/_kmeans.py:870: FutureWarning: The default value of `n_init` will change from 10 to 'auto' in 1.4. Set the value of `n_init` explicitly to suppress the warning\n",
            "  warnings.warn(\n"
          ]
        }
      ]
    },
    {
      "cell_type": "markdown",
      "source": [
        "n) Justify: Lower inertia is apparently better for clustering because inertia measures how spread out points are in a cluster. The elbow method finds the most optimal or better cluster by graphing interia compared to number of clusters, so when it decreases slower, that means that the more clusters you have doesn't really add anything."
      ],
      "metadata": {
        "id": "cNHKYM6nYIvy"
      }
    },
    {
      "cell_type": "code",
      "source": [
        "# m) Find inertia, labels and accuracy score\n",
        "inertia = kmeans.inertia_\n",
        "labels = kmeans.labels_"
      ],
      "metadata": {
        "id": "d4tDVAUFJ98V"
      },
      "execution_count": null,
      "outputs": []
    },
    {
      "cell_type": "code",
      "source": [
        "# Results for the intertia and labels\n",
        "print(\"Inertia:\", inertia)\n",
        "print(\"Labels:\", labels)"
      ],
      "metadata": {
        "colab": {
          "base_uri": "https://localhost:8080/"
        },
        "id": "z2KUmXuYJ-FK",
        "outputId": "c81cefe4-cd4d-460b-94c4-6306903345f5"
      },
      "execution_count": null,
      "outputs": [
        {
          "output_type": "stream",
          "name": "stdout",
          "text": [
            "Inertia: 2229.2878332953815\n",
            "Labels: [0 0 0 ... 1 1 1]\n"
          ]
        }
      ]
    },
    {
      "cell_type": "code",
      "source": [
        "# n) Justify: Lower inertia is apparently better for clustering."
      ],
      "metadata": {
        "id": "rOgWDbWZX8V9"
      },
      "execution_count": null,
      "outputs": []
    },
    {
      "cell_type": "code",
      "source": [
        "#Kmeans with Elbow method determines how many optimal clusters we need to divide according to their similar features\n",
        "\n",
        "# o) Implement elbow method for finding the optimal cluster\n",
        "inertia_values = []"
      ],
      "metadata": {
        "id": "zEcbknn3J-Hy"
      },
      "execution_count": null,
      "outputs": []
    },
    {
      "cell_type": "code",
      "source": [
        "# Here I'm trying different numbers of clusters just to check\n",
        "for i in range(1, 11):\n",
        "    kmeans = KMeans(n_clusters=i, random_state=42)\n",
        "    kmeans.fit(data_imputed)\n",
        "    inertia_values.append(kmeans.inertia_)"
      ],
      "metadata": {
        "colab": {
          "base_uri": "https://localhost:8080/"
        },
        "id": "3O3i9-apJ-KI",
        "outputId": "a2a39d50-fa40-4423-dde4-a529209e729d"
      },
      "execution_count": null,
      "outputs": [
        {
          "output_type": "stream",
          "name": "stderr",
          "text": [
            "/usr/local/lib/python3.10/dist-packages/sklearn/cluster/_kmeans.py:870: FutureWarning: The default value of `n_init` will change from 10 to 'auto' in 1.4. Set the value of `n_init` explicitly to suppress the warning\n",
            "  warnings.warn(\n",
            "/usr/local/lib/python3.10/dist-packages/sklearn/cluster/_kmeans.py:870: FutureWarning: The default value of `n_init` will change from 10 to 'auto' in 1.4. Set the value of `n_init` explicitly to suppress the warning\n",
            "  warnings.warn(\n",
            "/usr/local/lib/python3.10/dist-packages/sklearn/cluster/_kmeans.py:870: FutureWarning: The default value of `n_init` will change from 10 to 'auto' in 1.4. Set the value of `n_init` explicitly to suppress the warning\n",
            "  warnings.warn(\n",
            "/usr/local/lib/python3.10/dist-packages/sklearn/cluster/_kmeans.py:870: FutureWarning: The default value of `n_init` will change from 10 to 'auto' in 1.4. Set the value of `n_init` explicitly to suppress the warning\n",
            "  warnings.warn(\n",
            "/usr/local/lib/python3.10/dist-packages/sklearn/cluster/_kmeans.py:870: FutureWarning: The default value of `n_init` will change from 10 to 'auto' in 1.4. Set the value of `n_init` explicitly to suppress the warning\n",
            "  warnings.warn(\n",
            "/usr/local/lib/python3.10/dist-packages/sklearn/cluster/_kmeans.py:870: FutureWarning: The default value of `n_init` will change from 10 to 'auto' in 1.4. Set the value of `n_init` explicitly to suppress the warning\n",
            "  warnings.warn(\n",
            "/usr/local/lib/python3.10/dist-packages/sklearn/cluster/_kmeans.py:870: FutureWarning: The default value of `n_init` will change from 10 to 'auto' in 1.4. Set the value of `n_init` explicitly to suppress the warning\n",
            "  warnings.warn(\n",
            "/usr/local/lib/python3.10/dist-packages/sklearn/cluster/_kmeans.py:870: FutureWarning: The default value of `n_init` will change from 10 to 'auto' in 1.4. Set the value of `n_init` explicitly to suppress the warning\n",
            "  warnings.warn(\n",
            "/usr/local/lib/python3.10/dist-packages/sklearn/cluster/_kmeans.py:870: FutureWarning: The default value of `n_init` will change from 10 to 'auto' in 1.4. Set the value of `n_init` explicitly to suppress the warning\n",
            "  warnings.warn(\n",
            "/usr/local/lib/python3.10/dist-packages/sklearn/cluster/_kmeans.py:870: FutureWarning: The default value of `n_init` will change from 10 to 'auto' in 1.4. Set the value of `n_init` explicitly to suppress the warning\n",
            "  warnings.warn(\n"
          ]
        }
      ]
    },
    {
      "cell_type": "code",
      "source": [
        "\n",
        "# Plotting the elbow curve\n",
        "plt.plot(range(1, 11), inertia_values, marker='o')\n",
        "plt.title('Elbow Method for Optimal Cluster Selection')\n",
        "plt.xlabel('Number of Clusters') #X axis\n",
        "plt.ylabel('Inertia') #Y axis\n",
        "plt.show()"
      ],
      "metadata": {
        "colab": {
          "base_uri": "https://localhost:8080/",
          "height": 472
        },
        "id": "Vk8iahq3J-Pm",
        "outputId": "f2403061-192a-4ca2-e64f-b2298aa88e50"
      },
      "execution_count": null,
      "outputs": [
        {
          "output_type": "display_data",
          "data": {
            "text/plain": [
              "<Figure size 640x480 with 1 Axes>"
            ],
            "image/png": "[encoded data removed]"
          },
          "metadata": {}
        }
      ]
    },
    {
      "cell_type": "code",
      "source": [
        "#p) Which one is the optimal cluster, justify your answer.\n",
        "# It looks like from 3 to 4, there seems to be the optimal cluster. That point is likely\n",
        "#where the interia starts to slow down. It is most likely 4. (Most reasonable choice)"
      ],
      "metadata": {
        "id": "sqpbGuAWUHQU"
      },
      "execution_count": null,
      "outputs": []
    },
    {
      "cell_type": "code",
      "source": [],
      "metadata": {
        "id": "ycEcX1dOUMRB"
      },
      "execution_count": null,
      "outputs": []
    }
  ]
}